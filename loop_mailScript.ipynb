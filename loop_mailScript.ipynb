{
  "nbformat": 4,
  "nbformat_minor": 0,
  "metadata": {
    "colab": {
      "provenance": [],
      "include_colab_link": true
    },
    "kernelspec": {
      "name": "python3",
      "display_name": "Python 3"
    }
  },
  "cells": [
    {
      "cell_type": "markdown",
      "metadata": {
        "id": "view-in-github",
        "colab_type": "text"
      },
      "source": [
        "<a href=\"https://colab.research.google.com/github/CasterShade/CasterShade/blob/main/loop_mailScript.ipynb\" target=\"_parent\"><img src=\"https://colab.research.google.com/assets/colab-badge.svg\" alt=\"Open In Colab\"/></a>"
      ]
    },
    {
      "cell_type": "code",
      "metadata": {
        "id": "phxrF3lxarcn"
      },
      "source": [
        "from random import randint # for randon number generation\n",
        "import smtplib, ssl\n",
        "import openpyxl\n",
        "\n",
        "port = 587  # For SSL\n",
        "smtp_server = \"smtp.gmail.com\"\n",
        "sender_email = \"Cryptometabot@gmail.com\"  # Enter your address\n",
        "receiver_email =\"zubairkhan25d@gmail.com\" #\"monicaamalneri23@gmail.com\"  # Enter receiver address\n",
        "password = \"password\"\n",
        "myemail = 'Cryptometabot@gmail.com'\n",
        "mypassword = 'mypass'\n",
        "\n",
        "path=r'C:\\Users\\zmkhan\\Desktop\\testing.xlsx'\n",
        "wb = openpyxl.load_workbook(path)\n",
        "sheet = wb['Sheet1']\n",
        "\n",
        "message = \"\"\"From: MetaBot Crypto <{0}>\n",
        "To: {1} <{2}>\n",
        "Subject: Hii there!!! time to play santa.\n",
        "Hi {3},\n",
        "Time to be an angel for {4} on 27th of December.\n",
        "if u are not available then also\n",
        "just give the gift any how!!!!!!!!!\n",
        "\n",
        "\"\"\"\n",
        "\n",
        "receiver1[randint(0, len(receiver1) - 1)]\n",
        "name = []\n",
        "email_addr = []\n",
        "for i in range(1,4):\n",
        "  name.append(sheet['A'+str(i)].value)\n",
        "  email_addr.append(sheet['B'+str(i)].value)\n",
        "\n",
        "receiver=name\n",
        "receiver1=name\n",
        "for i in range(1,4):\n",
        "  temp_name = name[receiver(0, len(receiver) - 1)]\n",
        "  temp_msg = message.format(myemail,name[i],email_addr[i],name[i],temp_name)\n",
        "  sheet['C'+str(i)] = temp_name\n",
        "  receiver.remove(temp_name)\n",
        "\n",
        "  context = ssl.create_default_context()\n",
        "    with smtplib.SMTP_SSL(smtp_server, port, context=context) as server:\n",
        "            server.login(sender_email, password)\n",
        "            server.sendmail(sender_email, receiver_email, message)\n",
        "\n",
        "\n",
        "\n",
        "\n",
        "\n",
        "wb.save(path)\n",
        "\n",
        "#server.quit()"
      ],
      "execution_count": null,
      "outputs": []
    }
  ]
}